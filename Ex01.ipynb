{
  "nbformat": 4,
  "nbformat_minor": 0,
  "metadata": {
    "colab": {
      "provenance": [],
      "authorship_tag": "ABX9TyN2GhkxUmcscxzl1eSHmzCx",
      "include_colab_link": true
    },
    "kernelspec": {
      "name": "python3",
      "display_name": "Python 3"
    },
    "language_info": {
      "name": "python"
    }
  },
  "cells": [
    {
      "cell_type": "markdown",
      "metadata": {
        "id": "view-in-github",
        "colab_type": "text"
      },
      "source": [
        "<a href=\"https://colab.research.google.com/github/parko890/project01/blob/main/Ex01.ipynb\" target=\"_parent\"><img src=\"https://colab.research.google.com/assets/colab-badge.svg\" alt=\"Open In Colab\"/></a>"
      ]
    },
    {
      "cell_type": "code",
      "execution_count": null,
      "metadata": {
        "id": "76UCdm-GWhpF"
      },
      "outputs": [],
      "source": [
        "#อบรม  python 27 พ.ย. 67\n",
        "#644245026 พงษ์ศักดิ์ พลับพลาศรี หมูเรียน64/37"
      ]
    },
    {
      "cell_type": "code",
      "source": [
        "name = input(\"กรุนากรอกชื่อ : \")\n",
        "print(\"ยินดีต้อนรับ \" + name)"
      ],
      "metadata": {
        "colab": {
          "base_uri": "https://localhost:8080/"
        },
        "id": "4A97qg1NW8p_",
        "outputId": "7284afc7-9079-4723-bedd-1b0341be6f85"
      },
      "execution_count": 1,
      "outputs": [
        {
          "output_type": "stream",
          "name": "stdout",
          "text": [
            "กรุนากรอกชื่อ : ปอนด์\n",
            "ยินดีต้อนรับ ปอนด์\n"
          ]
        }
      ]
    },
    {
      "cell_type": "code",
      "source": [
        "num1=int(input(\"number1 = \"))\n",
        "num2=int(input(\"number2 = \"))\n",
        "total=num1+num2\n",
        "print(str(num1)+\"+\"+str(num2)+\"=\"+str(total))"
      ],
      "metadata": {
        "colab": {
          "base_uri": "https://localhost:8080/"
        },
        "id": "mtzcnL3qXpMG",
        "outputId": "8c3c30f3-73d8-40d5-c3e8-3cec1f86698a"
      },
      "execution_count": 2,
      "outputs": [
        {
          "output_type": "stream",
          "name": "stdout",
          "text": [
            "number1 = 2\n",
            "number2 = 3\n",
            "2+3=5\n"
          ]
        }
      ]
    },
    {
      "cell_type": "code",
      "source": [
        "#ให้รับค่าเข้ามาเพื่อนคำนวณค่า BMI\n",
        "#body mass index (BMI) มีสูตรการคำนวณ = น้ำหนังตัว[kg]/(ส่วนสูง)ยกกำลัง2\n",
        "#กำหนดรับค่า input น้ำหนังตัวกับส่วนสูง\n",
        "w = float(input(\"ค่าน้ำหนัก(กก.)\"))\n",
        "h = float(input(\"ส่วนสูง(ซม.)\"))\n",
        "bmi = w/((h/100)**2)\n",
        "print(\"BMI = \"+str(bmi))"
      ],
      "metadata": {
        "colab": {
          "base_uri": "https://localhost:8080/"
        },
        "id": "HPkUVKw3ZyiH",
        "outputId": "bfc4d4c3-2cec-44fc-fe0c-5fe6894c962d"
      },
      "execution_count": 3,
      "outputs": [
        {
          "output_type": "stream",
          "name": "stdout",
          "text": [
            "ค่าน้ำหนัก(กก.)90\n",
            "ส่วนสูง(ซม.)176\n",
            "BMI = 29.054752066115704\n"
          ]
        }
      ]
    },
    {
      "cell_type": "code",
      "source": [
        "w = float(input(\"พื้นที่ (เมตร)\"))\n",
        "l = float(input(\"ความหนา(เมตร.)\"))\n",
        "h = float(input(\"สูงเซนติเมตร\"))\n",
        "Q = w * l * h* 0.01\n",
        "J = Q * 0.1\n",
        "V = Q + J\n",
        "print(\"ปริมาณที่ต้องใช้ (คิว) = \"+str(Q))\n",
        "print(\"ปริมาณที่ต้องใช้ + เพื่ออีก 10% (คิว):\", V)"
      ],
      "metadata": {
        "colab": {
          "base_uri": "https://localhost:8080/"
        },
        "id": "AiS0zgJTeebN",
        "outputId": "331d0214-dec6-4695-c659-133d1696e9da"
      },
      "execution_count": 13,
      "outputs": [
        {
          "output_type": "stream",
          "name": "stdout",
          "text": [
            "พื้นที่ (เมตร)5\n",
            "ความหนา(เมตร.)7\n",
            "สูงเซนติเมตร15\n",
            "ปริมาณที่ต้องใช้ (คิว) = 5.25\n",
            "ปริมาณที่ต้องใช้ + เพื่ออีก 10% (คิว): 5.775\n"
          ]
        }
      ]
    },
    {
      "cell_type": "code",
      "source": [
        "a=50\n",
        "b=70\n",
        "if a>b :\n",
        "  print(\"a มากกว่า b\")\n",
        "else :\n",
        "  print(\"a น้อยกว่า b\")"
      ],
      "metadata": {
        "id": "xQ173j33jqKD"
      },
      "execution_count": null,
      "outputs": []
    },
    {
      "cell_type": "code",
      "source": [
        "w = float(input(\"ค่าน้ำหนัก(กก.)\"))\n",
        "h = float(input(\"ส่วนสูง(ซม.)\"))\n",
        "bmi = w / ((h / 100) ** 2)\n",
        "print(\"BMI =\", bmi)\n",
        "\n",
        "if bmi >= 30.0:\n",
        "    print(\"อ้วนมาก\")  # Obese\n",
        "elif bmi >= 25.0:\n",
        "    print(\"อ้วน\")  # Overweight\n",
        "elif bmi < 18.5:\n",
        "    print(\"ผอมเกินไป\")  # Underweight\n",
        "else:\n",
        "    print(\"น้ำหนักปกติ\")  # Normal weight\n",
        ""
      ],
      "metadata": {
        "colab": {
          "base_uri": "https://localhost:8080/"
        },
        "id": "8KMBTLoumEWl",
        "outputId": "ca145b79-ef10-47cf-ff4c-d35bcd9b798f"
      },
      "execution_count": 15,
      "outputs": [
        {
          "output_type": "stream",
          "name": "stdout",
          "text": [
            "ค่าน้ำหนัก(กก.)95\n",
            "ส่วนสูง(ซม.)176\n",
            "BMI = 30.668904958677686\n",
            "อ้วนมาก\n"
          ]
        }
      ]
    },
    {
      "cell_type": "code",
      "source": [
        "number = int(input(\"กรุณาใส่ตัวเลขที่ต้องการ: \"))  # Get input from the user\n",
        "\n",
        "print(f\"แม่สูตรคูณแม่ {number}:\")  # Print table heading\n",
        "\n",
        "for i in range(1, 13):  # Iterate from 1 to 12\n",
        "    result = number * i\n",
        "    print(f\"{number} x {i} = {result}\")  # Print each multiplication line้"
      ],
      "metadata": {
        "colab": {
          "base_uri": "https://localhost:8080/"
        },
        "id": "Yo1ueIKBsAsD",
        "outputId": "3b1b5c10-5998-4ccf-8850-c5fd0bf8f580"
      },
      "execution_count": 16,
      "outputs": [
        {
          "output_type": "stream",
          "name": "stdout",
          "text": [
            "กรุณาใส่ตัวเลขที่ต้องการ: 4\n",
            "แม่สูตรคูณแม่ 4:\n",
            "4 x 1 = 4\n",
            "4 x 2 = 8\n",
            "4 x 3 = 12\n",
            "4 x 4 = 16\n",
            "4 x 5 = 20\n",
            "4 x 6 = 24\n",
            "4 x 7 = 28\n",
            "4 x 8 = 32\n",
            "4 x 9 = 36\n",
            "4 x 10 = 40\n",
            "4 x 11 = 44\n",
            "4 x 12 = 48\n"
          ]
        }
      ]
    },
    {
      "cell_type": "code",
      "source": [
        "number = int(input(\"กรุณาใส่ตัวเลขที่ต้องการ: \"))\n",
        "\n",
        "print(f\"แม่สูตรคูณแม่ {number}:\")\n",
        "\n",
        "i = 1\n",
        "while i <= 12:\n",
        "    result = number * i\n",
        "    print(f\"{number} x {i} = {result}\")\n",
        "    i += 1"
      ],
      "metadata": {
        "colab": {
          "base_uri": "https://localhost:8080/"
        },
        "id": "lSuz3IiKvIFT",
        "outputId": "1bf85fb0-2b9e-4fe0-bfa5-581ab122a8c1"
      },
      "execution_count": 17,
      "outputs": [
        {
          "output_type": "stream",
          "name": "stdout",
          "text": [
            "กรุณาใส่ตัวเลขที่ต้องการ: 3\n",
            "แม่สูตรคูณแม่ 3:\n",
            "3 x 1 = 3\n",
            "3 x 2 = 6\n",
            "3 x 3 = 9\n",
            "3 x 4 = 12\n",
            "3 x 5 = 15\n",
            "3 x 6 = 18\n",
            "3 x 7 = 21\n",
            "3 x 8 = 24\n",
            "3 x 9 = 27\n",
            "3 x 10 = 30\n",
            "3 x 11 = 33\n",
            "3 x 12 = 36\n"
          ]
        }
      ]
    },
    {
      "cell_type": "code",
      "source": [
        "for number in range(2, 13):\n",
        "    print(f\"แม่สูตรคูณแม่ {number}:\")\n",
        "\n",
        "    i = 1\n",
        "    while i <= 12:\n",
        "        result = number * i\n",
        "        print(f\"{number} x {i} = {result}\")\n",
        "        i += 1\n",
        "\n",
        "    print(\"-\" * 20)\n",
        ""
      ],
      "metadata": {
        "colab": {
          "base_uri": "https://localhost:8080/"
        },
        "id": "zJBWT7FeyfGD",
        "outputId": "2df2f887-bdab-4f9f-e385-f5a7e3e93675"
      },
      "execution_count": 18,
      "outputs": [
        {
          "output_type": "stream",
          "name": "stdout",
          "text": [
            "แม่สูตรคูณแม่ 2:\n",
            "2 x 1 = 2\n",
            "2 x 2 = 4\n",
            "2 x 3 = 6\n",
            "2 x 4 = 8\n",
            "2 x 5 = 10\n",
            "2 x 6 = 12\n",
            "2 x 7 = 14\n",
            "2 x 8 = 16\n",
            "2 x 9 = 18\n",
            "2 x 10 = 20\n",
            "2 x 11 = 22\n",
            "2 x 12 = 24\n",
            "--------------------\n",
            "แม่สูตรคูณแม่ 3:\n",
            "3 x 1 = 3\n",
            "3 x 2 = 6\n",
            "3 x 3 = 9\n",
            "3 x 4 = 12\n",
            "3 x 5 = 15\n",
            "3 x 6 = 18\n",
            "3 x 7 = 21\n",
            "3 x 8 = 24\n",
            "3 x 9 = 27\n",
            "3 x 10 = 30\n",
            "3 x 11 = 33\n",
            "3 x 12 = 36\n",
            "--------------------\n",
            "แม่สูตรคูณแม่ 4:\n",
            "4 x 1 = 4\n",
            "4 x 2 = 8\n",
            "4 x 3 = 12\n",
            "4 x 4 = 16\n",
            "4 x 5 = 20\n",
            "4 x 6 = 24\n",
            "4 x 7 = 28\n",
            "4 x 8 = 32\n",
            "4 x 9 = 36\n",
            "4 x 10 = 40\n",
            "4 x 11 = 44\n",
            "4 x 12 = 48\n",
            "--------------------\n",
            "แม่สูตรคูณแม่ 5:\n",
            "5 x 1 = 5\n",
            "5 x 2 = 10\n",
            "5 x 3 = 15\n",
            "5 x 4 = 20\n",
            "5 x 5 = 25\n",
            "5 x 6 = 30\n",
            "5 x 7 = 35\n",
            "5 x 8 = 40\n",
            "5 x 9 = 45\n",
            "5 x 10 = 50\n",
            "5 x 11 = 55\n",
            "5 x 12 = 60\n",
            "--------------------\n",
            "แม่สูตรคูณแม่ 6:\n",
            "6 x 1 = 6\n",
            "6 x 2 = 12\n",
            "6 x 3 = 18\n",
            "6 x 4 = 24\n",
            "6 x 5 = 30\n",
            "6 x 6 = 36\n",
            "6 x 7 = 42\n",
            "6 x 8 = 48\n",
            "6 x 9 = 54\n",
            "6 x 10 = 60\n",
            "6 x 11 = 66\n",
            "6 x 12 = 72\n",
            "--------------------\n",
            "แม่สูตรคูณแม่ 7:\n",
            "7 x 1 = 7\n",
            "7 x 2 = 14\n",
            "7 x 3 = 21\n",
            "7 x 4 = 28\n",
            "7 x 5 = 35\n",
            "7 x 6 = 42\n",
            "7 x 7 = 49\n",
            "7 x 8 = 56\n",
            "7 x 9 = 63\n",
            "7 x 10 = 70\n",
            "7 x 11 = 77\n",
            "7 x 12 = 84\n",
            "--------------------\n",
            "แม่สูตรคูณแม่ 8:\n",
            "8 x 1 = 8\n",
            "8 x 2 = 16\n",
            "8 x 3 = 24\n",
            "8 x 4 = 32\n",
            "8 x 5 = 40\n",
            "8 x 6 = 48\n",
            "8 x 7 = 56\n",
            "8 x 8 = 64\n",
            "8 x 9 = 72\n",
            "8 x 10 = 80\n",
            "8 x 11 = 88\n",
            "8 x 12 = 96\n",
            "--------------------\n",
            "แม่สูตรคูณแม่ 9:\n",
            "9 x 1 = 9\n",
            "9 x 2 = 18\n",
            "9 x 3 = 27\n",
            "9 x 4 = 36\n",
            "9 x 5 = 45\n",
            "9 x 6 = 54\n",
            "9 x 7 = 63\n",
            "9 x 8 = 72\n",
            "9 x 9 = 81\n",
            "9 x 10 = 90\n",
            "9 x 11 = 99\n",
            "9 x 12 = 108\n",
            "--------------------\n",
            "แม่สูตรคูณแม่ 10:\n",
            "10 x 1 = 10\n",
            "10 x 2 = 20\n",
            "10 x 3 = 30\n",
            "10 x 4 = 40\n",
            "10 x 5 = 50\n",
            "10 x 6 = 60\n",
            "10 x 7 = 70\n",
            "10 x 8 = 80\n",
            "10 x 9 = 90\n",
            "10 x 10 = 100\n",
            "10 x 11 = 110\n",
            "10 x 12 = 120\n",
            "--------------------\n",
            "แม่สูตรคูณแม่ 11:\n",
            "11 x 1 = 11\n",
            "11 x 2 = 22\n",
            "11 x 3 = 33\n",
            "11 x 4 = 44\n",
            "11 x 5 = 55\n",
            "11 x 6 = 66\n",
            "11 x 7 = 77\n",
            "11 x 8 = 88\n",
            "11 x 9 = 99\n",
            "11 x 10 = 110\n",
            "11 x 11 = 121\n",
            "11 x 12 = 132\n",
            "--------------------\n",
            "แม่สูตรคูณแม่ 12:\n",
            "12 x 1 = 12\n",
            "12 x 2 = 24\n",
            "12 x 3 = 36\n",
            "12 x 4 = 48\n",
            "12 x 5 = 60\n",
            "12 x 6 = 72\n",
            "12 x 7 = 84\n",
            "12 x 8 = 96\n",
            "12 x 9 = 108\n",
            "12 x 10 = 120\n",
            "12 x 11 = 132\n",
            "12 x 12 = 144\n",
            "--------------------\n"
          ]
        }
      ]
    },
    {
      "cell_type": "code",
      "source": [
        "# prompt: เขียนโค๊ดตึ่งราคา  bitcoin เเบบrealtime uri ที่ไม่ใช่coingecko\n",
        "\n",
        "import requests\n",
        "import json\n",
        "\n",
        "def get_bitcoin_price():\n",
        "  \"\"\"\n",
        "  Fetches the current Bitcoin price from a public API (not CoinGecko).\n",
        "\n",
        "  Returns:\n",
        "      float: The current Bitcoin price in USD, or None if the API request fails.\n",
        "  \"\"\"\n",
        "  try:\n",
        "    # Use a reliable public API for Bitcoin price.\n",
        "    # Replace 'YOUR_API_ENDPOINT' with the actual API endpoint URL.\n",
        "    url = 'https://api.coinbase.com/v2/prices/BTC-USD/spot'  # Example using Coinbase API\n",
        "    response = requests.get(url)\n",
        "    response.raise_for_status()  # Raise HTTPError for bad responses (4xx or 5xx)\n",
        "\n",
        "    data = response.json()\n",
        "    price = float(data['data']['amount'])\n",
        "    return price\n",
        "\n",
        "  except requests.exceptions.RequestException as e:\n",
        "    print(f\"Error fetching Bitcoin price: {e}\")\n",
        "    return None\n",
        "\n",
        "  except (KeyError, ValueError) as e:\n",
        "    print(f\"Error parsing Bitcoin price data: {e}\")\n",
        "    return None\n",
        "\n",
        "\n",
        "if __name__ == \"__main__\":\n",
        "  price = get_bitcoin_price()\n",
        "  if price:\n",
        "    print(f\"The current Bitcoin price is: ${price:.2f}\")"
      ],
      "metadata": {
        "colab": {
          "base_uri": "https://localhost:8080/"
        },
        "id": "h7VsDf2SzwFT",
        "outputId": "3a0ba05e-b28a-420b-d31a-ed3534e56017"
      },
      "execution_count": 19,
      "outputs": [
        {
          "output_type": "stream",
          "name": "stdout",
          "text": [
            "The current Bitcoin price is: $93382.20\n"
          ]
        }
      ]
    }
  ]
}