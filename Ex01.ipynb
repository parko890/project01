{
  "nbformat": 4,
  "nbformat_minor": 0,
  "metadata": {
    "colab": {
      "provenance": [],
      "authorship_tag": "ABX9TyNEhpr7eEpVL01HMyBrOeyS",
      "include_colab_link": true
    },
    "kernelspec": {
      "name": "python3",
      "display_name": "Python 3"
    },
    "language_info": {
      "name": "python"
    }
  },
  "cells": [
    {
      "cell_type": "markdown",
      "metadata": {
        "id": "view-in-github",
        "colab_type": "text"
      },
      "source": [
        "<a href=\"https://colab.research.google.com/github/parko890/project01/blob/main/Ex01.ipynb\" target=\"_parent\"><img src=\"https://colab.research.google.com/assets/colab-badge.svg\" alt=\"Open In Colab\"/></a>"
      ]
    },
    {
      "cell_type": "code",
      "execution_count": null,
      "metadata": {
        "id": "76UCdm-GWhpF"
      },
      "outputs": [],
      "source": [
        "#อบรม  python 27 พ.ย. 67\n",
        "#644245026 พงษ์ศักดิ์ พลับพลาศรี หมูเรียน64/37"
      ]
    },
    {
      "cell_type": "code",
      "source": [
        "name = input(\"กรุนากรอกชื่อ : \")\n",
        "print(\"ยินดีต้อนรับ \" + name)"
      ],
      "metadata": {
        "colab": {
          "base_uri": "https://localhost:8080/"
        },
        "id": "4A97qg1NW8p_",
        "outputId": "7284afc7-9079-4723-bedd-1b0341be6f85"
      },
      "execution_count": 1,
      "outputs": [
        {
          "output_type": "stream",
          "name": "stdout",
          "text": [
            "กรุนากรอกชื่อ : ปอนด์\n",
            "ยินดีต้อนรับ ปอนด์\n"
          ]
        }
      ]
    },
    {
      "cell_type": "code",
      "source": [
        "num1=int(input(\"number1 = \"))\n",
        "num2=int(input(\"number2 = \"))\n",
        "total=num1+num2\n",
        "print(str(num1)+\"+\"+str(num2)+\"=\"+str(total))"
      ],
      "metadata": {
        "colab": {
          "base_uri": "https://localhost:8080/"
        },
        "id": "mtzcnL3qXpMG",
        "outputId": "8c3c30f3-73d8-40d5-c3e8-3cec1f86698a"
      },
      "execution_count": 2,
      "outputs": [
        {
          "output_type": "stream",
          "name": "stdout",
          "text": [
            "number1 = 2\n",
            "number2 = 3\n",
            "2+3=5\n"
          ]
        }
      ]
    },
    {
      "cell_type": "code",
      "source": [
        "#ให้รับค่าเข้ามาเพื่อนคำนวณค่า BMI\n",
        "#body mass index (BMI) มีสูตรการคำนวณ = น้ำหนังตัว[kg]/(ส่วนสูง)ยกกำลัง2\n",
        "#กำหนดรับค่า input น้ำหนังตัวกับส่วนสูง\n",
        "w = float(input(\"ค่าน้ำหนัก(กก.)\"))\n",
        "h = float(input(\"ส่วนสูง(ซม.)\"))\n",
        "bmi = w/((h/100)**2)\n",
        "print(\"BMI = \"+str(bmi))"
      ],
      "metadata": {
        "colab": {
          "base_uri": "https://localhost:8080/"
        },
        "id": "HPkUVKw3ZyiH",
        "outputId": "bfc4d4c3-2cec-44fc-fe0c-5fe6894c962d"
      },
      "execution_count": 3,
      "outputs": [
        {
          "output_type": "stream",
          "name": "stdout",
          "text": [
            "ค่าน้ำหนัก(กก.)90\n",
            "ส่วนสูง(ซม.)176\n",
            "BMI = 29.054752066115704\n"
          ]
        }
      ]
    },
    {
      "cell_type": "code",
      "source": [
        "w = float(input(\"พื้นที่ (เมตร)\"))\n",
        "l = float(input(\"ความหนา(เมตร.)\"))\n",
        "h = float(input(\"สูงเซนติเมตร\"))\n",
        "Q = w * l * h* 0.01\n",
        "J = Q * 0.1\n",
        "V = Q + J\n",
        "print(\"ปริมาณที่ต้องใช้ (คิว) = \"+str(Q))\n",
        "print(\"ปริมาณที่ต้องใช้ + เพื่ออีก 10% (คิว):\", V)"
      ],
      "metadata": {
        "colab": {
          "base_uri": "https://localhost:8080/"
        },
        "id": "AiS0zgJTeebN",
        "outputId": "331d0214-dec6-4695-c659-133d1696e9da"
      },
      "execution_count": 13,
      "outputs": [
        {
          "output_type": "stream",
          "name": "stdout",
          "text": [
            "พื้นที่ (เมตร)5\n",
            "ความหนา(เมตร.)7\n",
            "สูงเซนติเมตร15\n",
            "ปริมาณที่ต้องใช้ (คิว) = 5.25\n",
            "ปริมาณที่ต้องใช้ + เพื่ออีก 10% (คิว): 5.775\n"
          ]
        }
      ]
    },
    {
      "cell_type": "code",
      "source": [
        "a=50\n",
        "b=70\n",
        "if a>b :\n",
        "  print(\"a มากกว่า b\")\n",
        "else :\n",
        "  print(\"a น้อยกว่า b\")"
      ],
      "metadata": {
        "id": "xQ173j33jqKD"
      },
      "execution_count": null,
      "outputs": []
    },
    {
      "cell_type": "code",
      "source": [
        "w = float(input(\"ค่าน้ำหนัก(กก.)\"))\n",
        "h = float(input(\"ส่วนสูง(ซม.)\"))\n",
        "bmi = w / ((h / 100) ** 2)\n",
        "print(\"BMI =\", bmi)\n",
        "\n",
        "if bmi >= 30.0:\n",
        "    print(\"อ้วนมาก\")  # Obese\n",
        "elif bmi >= 25.0:\n",
        "    print(\"อ้วน\")  # Overweight\n",
        "elif bmi < 18.5:\n",
        "    print(\"ผอมเกินไป\")  # Underweight\n",
        "else:\n",
        "    print(\"น้ำหนักปกติ\")  # Normal weight\n",
        ""
      ],
      "metadata": {
        "colab": {
          "base_uri": "https://localhost:8080/"
        },
        "id": "8KMBTLoumEWl",
        "outputId": "ca145b79-ef10-47cf-ff4c-d35bcd9b798f"
      },
      "execution_count": 15,
      "outputs": [
        {
          "output_type": "stream",
          "name": "stdout",
          "text": [
            "ค่าน้ำหนัก(กก.)95\n",
            "ส่วนสูง(ซม.)176\n",
            "BMI = 30.668904958677686\n",
            "อ้วนมาก\n"
          ]
        }
      ]
    }
  ]
}